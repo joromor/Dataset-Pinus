{
  "cells": [
    {
      "cell_type": "markdown",
      "metadata": {
        "id": "view-in-github",
        "colab_type": "text"
      },
      "source": [
        "<a href=\"https://colab.research.google.com/github/joromor/Dataset-Pinus/blob/main/Notebook_detect_2.ipynb\" target=\"_parent\"><img src=\"https://colab.research.google.com/assets/colab-badge.svg\" alt=\"Open In Colab\"/></a>"
      ]
    },
    {
      "cell_type": "markdown",
      "source": [
        "Exportar ortomosaico a ser trabalhado e modelo melhor peso para o Google Drive"
      ],
      "metadata": {
        "id": "q22Ad__sofdU"
      }
    },
    {
      "cell_type": "markdown",
      "source": [
        "Conectar ao Google Drive"
      ],
      "metadata": {
        "id": "W-3uSeTYo5xb"
      }
    },
    {
      "cell_type": "code",
      "execution_count": null,
      "metadata": {
        "colab": {
          "base_uri": "https://localhost:8080/"
        },
        "id": "UVH1pbJWPgj8",
        "outputId": "7bbfbe13-f991-474c-b306-4ecfbb92e04b"
      },
      "outputs": [
        {
          "output_type": "stream",
          "name": "stdout",
          "text": [
            "Mounted at /content/drive\n"
          ]
        }
      ],
      "source": [
        "from google.colab import drive\n",
        "drive.mount('/content/drive')"
      ]
    },
    {
      "cell_type": "code",
      "execution_count": null,
      "metadata": {
        "id": "4RWRvee_S46v"
      },
      "outputs": [],
      "source": [
        "# buscando o ortomosaico no Google Drive\n",
        "path_img = '/caminho da ortofoto no Google Drive'"
      ]
    },
    {
      "cell_type": "code",
      "execution_count": null,
      "metadata": {
        "colab": {
          "base_uri": "https://localhost:8080/"
        },
        "id": "dKn6PEDuTRO9",
        "outputId": "98a49d45-aec0-422b-a19d-727980c8a004",
        "collapsed": true
      },
      "outputs": [
        {
          "output_type": "stream",
          "name": "stdout",
          "text": [
            "Collecting rasterio\n",
            "  Downloading rasterio-1.4.3-cp311-cp311-manylinux_2_17_x86_64.manylinux2014_x86_64.whl.metadata (9.1 kB)\n",
            "Collecting affine (from rasterio)\n",
            "  Downloading affine-2.4.0-py3-none-any.whl.metadata (4.0 kB)\n",
            "Requirement already satisfied: attrs in /usr/local/lib/python3.11/dist-packages (from rasterio) (25.1.0)\n",
            "Requirement already satisfied: certifi in /usr/local/lib/python3.11/dist-packages (from rasterio) (2025.1.31)\n",
            "Requirement already satisfied: click>=4.0 in /usr/local/lib/python3.11/dist-packages (from rasterio) (8.1.8)\n",
            "Collecting cligj>=0.5 (from rasterio)\n",
            "  Downloading cligj-0.7.2-py3-none-any.whl.metadata (5.0 kB)\n",
            "Requirement already satisfied: numpy>=1.24 in /usr/local/lib/python3.11/dist-packages (from rasterio) (1.26.4)\n",
            "Collecting click-plugins (from rasterio)\n",
            "  Downloading click_plugins-1.1.1-py2.py3-none-any.whl.metadata (6.4 kB)\n",
            "Requirement already satisfied: pyparsing in /usr/local/lib/python3.11/dist-packages (from rasterio) (3.2.1)\n",
            "Downloading rasterio-1.4.3-cp311-cp311-manylinux_2_17_x86_64.manylinux2014_x86_64.whl (22.2 MB)\n",
            "\u001b[2K   \u001b[90m━━━━━━━━━━━━━━━━━━━━━━━━━━━━━━━━━━━━━━━━\u001b[0m \u001b[32m22.2/22.2 MB\u001b[0m \u001b[31m42.7 MB/s\u001b[0m eta \u001b[36m0:00:00\u001b[0m\n",
            "\u001b[?25hDownloading cligj-0.7.2-py3-none-any.whl (7.1 kB)\n",
            "Downloading affine-2.4.0-py3-none-any.whl (15 kB)\n",
            "Downloading click_plugins-1.1.1-py2.py3-none-any.whl (7.5 kB)\n",
            "Installing collected packages: cligj, click-plugins, affine, rasterio\n",
            "Successfully installed affine-2.4.0 click-plugins-1.1.1 cligj-0.7.2 rasterio-1.4.3\n",
            "Requirement already satisfied: geopandas in /usr/local/lib/python3.11/dist-packages (1.0.1)\n",
            "Requirement already satisfied: numpy>=1.22 in /usr/local/lib/python3.11/dist-packages (from geopandas) (1.26.4)\n",
            "Requirement already satisfied: pyogrio>=0.7.2 in /usr/local/lib/python3.11/dist-packages (from geopandas) (0.10.0)\n",
            "Requirement already satisfied: packaging in /usr/local/lib/python3.11/dist-packages (from geopandas) (24.2)\n",
            "Requirement already satisfied: pandas>=1.4.0 in /usr/local/lib/python3.11/dist-packages (from geopandas) (2.2.2)\n",
            "Requirement already satisfied: pyproj>=3.3.0 in /usr/local/lib/python3.11/dist-packages (from geopandas) (3.7.1)\n",
            "Requirement already satisfied: shapely>=2.0.0 in /usr/local/lib/python3.11/dist-packages (from geopandas) (2.0.7)\n",
            "Requirement already satisfied: python-dateutil>=2.8.2 in /usr/local/lib/python3.11/dist-packages (from pandas>=1.4.0->geopandas) (2.8.2)\n",
            "Requirement already satisfied: pytz>=2020.1 in /usr/local/lib/python3.11/dist-packages (from pandas>=1.4.0->geopandas) (2025.1)\n",
            "Requirement already satisfied: tzdata>=2022.7 in /usr/local/lib/python3.11/dist-packages (from pandas>=1.4.0->geopandas) (2025.1)\n",
            "Requirement already satisfied: certifi in /usr/local/lib/python3.11/dist-packages (from pyogrio>=0.7.2->geopandas) (2025.1.31)\n",
            "Requirement already satisfied: six>=1.5 in /usr/local/lib/python3.11/dist-packages (from python-dateutil>=2.8.2->pandas>=1.4.0->geopandas) (1.17.0)\n"
          ]
        }
      ],
      "source": [
        "# instalando as bibliotecas\n",
        "!pip install rasterio\n",
        "!pip install geopandas"
      ]
    },
    {
      "cell_type": "code",
      "execution_count": null,
      "metadata": {
        "id": "cUVNQRRSTwp9"
      },
      "outputs": [],
      "source": [
        "# instalando demais bibliotecas e módulos\n",
        "import rasterio\n",
        "from matplotlib import pyplot as plt\n",
        "import os\n",
        "from rasterio.windows import Window\n",
        "from skimage.io import imsave\n",
        "from skimage import io\n",
        "import glob\n",
        "import numpy as np\n",
        "import geopandas as gpd\n",
        "from rasterio.plot import show\n",
        "import pandas as pd\n",
        "from shapely.geometry import Polygon\n",
        "import os\n",
        "import pandas as pd\n",
        "import numpy as np\n",
        "import rasterio\n",
        "import geopandas as gpd\n",
        "from shapely.geometry import Point\n",
        "import json"
      ]
    },
    {
      "cell_type": "markdown",
      "source": [
        "Verificando os dados do ortomosaico (p.ex: 4 bandas x 5697 pixels e largura e 6194 pixels dealtura)"
      ],
      "metadata": {
        "id": "IIViFELFpZYL"
      }
    },
    {
      "cell_type": "code",
      "execution_count": null,
      "metadata": {
        "id": "5rF-Oh5qUKLl"
      },
      "outputs": [],
      "source": [
        "src_img = rasterio.open(path_img)"
      ]
    },
    {
      "cell_type": "code",
      "execution_count": null,
      "metadata": {
        "id": "fpaOtSMtUOQF"
      },
      "outputs": [],
      "source": [
        "img = src_img.read()"
      ]
    },
    {
      "cell_type": "code",
      "execution_count": null,
      "metadata": {
        "colab": {
          "base_uri": "https://localhost:8080/"
        },
        "id": "4bf2QD05UR3t",
        "outputId": "be9f87fc-bac4-4a39-c076-f9211a644b98"
      },
      "outputs": [
        {
          "output_type": "execute_result",
          "data": {
            "text/plain": [
              "(4, 5697, 6194)"
            ]
          },
          "metadata": {},
          "execution_count": 7
        }
      ],
      "source": [
        "img.shape"
      ]
    },
    {
      "cell_type": "markdown",
      "source": [
        "p.ex. ortomosaico com 4 bandas e tamanho de 5697 pixels de largura e 6194 pixels de altura"
      ],
      "metadata": {
        "id": "ucgUS70zpy_0"
      }
    },
    {
      "cell_type": "markdown",
      "source": [
        "É necessário inverter a ordem: largura x altura x n. bandas"
      ],
      "metadata": {
        "id": "-74NoX0NqEey"
      }
    },
    {
      "cell_type": "code",
      "execution_count": null,
      "metadata": {
        "id": "GQSFDcvfUWN0"
      },
      "outputs": [],
      "source": [
        "img = img.transpose([1,2,0])"
      ]
    },
    {
      "cell_type": "code",
      "execution_count": null,
      "metadata": {
        "colab": {
          "base_uri": "https://localhost:8080/"
        },
        "id": "ImpXdLdlUaRG",
        "outputId": "99f5bf0e-6a9a-4c5b-89fd-8c3c187df331"
      },
      "outputs": [
        {
          "output_type": "execute_result",
          "data": {
            "text/plain": [
              "(5697, 6194, 4)"
            ]
          },
          "metadata": {},
          "execution_count": 9
        }
      ],
      "source": [
        "img.shape"
      ]
    },
    {
      "cell_type": "code",
      "execution_count": null,
      "metadata": {
        "id": "7_wWctSEUlH1"
      },
      "outputs": [],
      "source": [
        "# criar uma pasta Predict para receber as imagens recortadas tiff\n",
        "if not os.path.isdir('/content/Predict'):\n",
        "    os.mkdir('/content/Predict')"
      ]
    },
    {
      "cell_type": "markdown",
      "source": [
        "Dividir o ortomosaico em partes de 640 x 640 pixels e salvando-as na pasta predict"
      ],
      "metadata": {
        "id": "6AdsX5DoqpYT"
      }
    },
    {
      "cell_type": "code",
      "execution_count": null,
      "metadata": {
        "id": "v6-qV_60Up8t"
      },
      "outputs": [],
      "source": [
        "# Dividir o ortomosaico em partes de 640 x 640 pixels e salvando-as na pasta Predict criada\n",
        "qtd = 0\n",
        "out_meta = src_img.meta.copy()\n",
        "for n in range((src_img.meta['width']//640)):\n",
        "  for m in range((src_img.meta['height']//640)):\n",
        "    x = (n*640)\n",
        "    y = (m*640)\n",
        "    window = Window(x,y,640,640)\n",
        "    win_transform = src_img.window_transform(window)\n",
        "    arr_win = src_img.read(window=window)\n",
        "    arr_win = arr_win[0:3,:,:]\n",
        "    if (arr_win.max() != 0) and (arr_win.shape[1] == 640) and (arr_win.shape[2] == 640):\n",
        "      qtd = qtd + 1\n",
        "      path_exp = '/content/Predict/img_' + str(qtd) + '.tif'\n",
        "      out_meta.update({\"driver\": \"GTiff\",\"height\": 640,\"width\": 640, \"transform\":win_transform})\n",
        "      with rasterio.open(path_exp, 'w', **out_meta) as dst:\n",
        "          for i, layer in enumerate(arr_win, start=1):\n",
        "              dst.write_band(i, layer.reshape(-1, layer.shape[-1]))\n",
        "      del arr_win"
      ]
    },
    {
      "cell_type": "markdown",
      "source": [
        "Conferir a quantidade de inagens de 640 x 640 geradas (ex: 64)"
      ],
      "metadata": {
        "id": "lDXaSqKWrg_H"
      }
    },
    {
      "cell_type": "code",
      "execution_count": null,
      "metadata": {
        "colab": {
          "base_uri": "https://localhost:8080/"
        },
        "id": "S3zIsEMMUtTF",
        "outputId": "bc05bc1b-ddeb-45bb-c609-71ba0bc5ea15"
      },
      "outputs": [
        {
          "output_type": "stream",
          "name": "stdout",
          "text": [
            "64\n"
          ]
        }
      ],
      "source": [
        "# Conferir a quantidade de imagens de 640 x 640 geradas (ex;64)\n",
        "print(qtd)"
      ]
    },
    {
      "cell_type": "code",
      "execution_count": null,
      "metadata": {
        "colab": {
          "base_uri": "https://localhost:8080/"
        },
        "id": "-RcRZcu2Uw20",
        "outputId": "460fadf4-e8f8-41ae-83de-68a02288a165",
        "collapsed": true
      },
      "outputs": [
        {
          "output_type": "stream",
          "name": "stderr",
          "text": [
            "/usr/local/lib/python3.11/dist-packages/skimage/_shared/utils.py:328: UserWarning: /content/Predict_jpg/img_20.jpg is a low contrast image\n",
            "  return func(*args, **kwargs)\n",
            "/usr/local/lib/python3.11/dist-packages/skimage/_shared/utils.py:328: UserWarning: /content/Predict_jpg/img_12.jpg is a low contrast image\n",
            "  return func(*args, **kwargs)\n",
            "/usr/local/lib/python3.11/dist-packages/skimage/_shared/utils.py:328: UserWarning: /content/Predict_jpg/img_5.jpg is a low contrast image\n",
            "  return func(*args, **kwargs)\n"
          ]
        }
      ],
      "source": [
        "# Criando uma pasta Predict_jpg para receber as imagens jpg convertidas a ártir das imagens tif (procedimento necessário pois o YOLO não trabalha com tif)\n",
        "# converter as imagens tif para jpg\n",
        "if not os.path.isdir('/content/Predict_jpg'):\n",
        "    os.mkdir('/content/Predict_jpg')\n",
        "\n",
        "path_data_pred = '/content/Predict_jpg'\n",
        "imgs_to_pred = os.listdir('/content/Predict')\n",
        "for images in imgs_to_pred:\n",
        "  src = rasterio.open('/content/Predict/' + images)\n",
        "  raster = src.read()\n",
        "  raster = raster.transpose([1,2,0])\n",
        "  raster = raster[:,:,0:3]\n",
        "  imsave(os.path.join(path_data_pred,images.split('.')[0] + '.jpg'), raster)"
      ]
    },
    {
      "cell_type": "code",
      "execution_count": null,
      "metadata": {
        "colab": {
          "base_uri": "https://localhost:8080/"
        },
        "id": "oRMyGemwVd5U",
        "outputId": "322fb651-13d7-445e-d6e5-ec9d3681326c",
        "collapsed": true
      },
      "outputs": [
        {
          "output_type": "stream",
          "name": "stdout",
          "text": [
            "Collecting ultralytics\n",
            "  Downloading ultralytics-8.3.86-py3-none-any.whl.metadata (35 kB)\n",
            "Requirement already satisfied: numpy<=2.1.1,>=1.23.0 in /usr/local/lib/python3.11/dist-packages (from ultralytics) (1.26.4)\n",
            "Requirement already satisfied: matplotlib>=3.3.0 in /usr/local/lib/python3.11/dist-packages (from ultralytics) (3.10.0)\n",
            "Requirement already satisfied: opencv-python>=4.6.0 in /usr/local/lib/python3.11/dist-packages (from ultralytics) (4.11.0.86)\n",
            "Requirement already satisfied: pillow>=7.1.2 in /usr/local/lib/python3.11/dist-packages (from ultralytics) (11.1.0)\n",
            "Requirement already satisfied: pyyaml>=5.3.1 in /usr/local/lib/python3.11/dist-packages (from ultralytics) (6.0.2)\n",
            "Requirement already satisfied: requests>=2.23.0 in /usr/local/lib/python3.11/dist-packages (from ultralytics) (2.32.3)\n",
            "Requirement already satisfied: scipy>=1.4.1 in /usr/local/lib/python3.11/dist-packages (from ultralytics) (1.13.1)\n",
            "Requirement already satisfied: torch>=1.8.0 in /usr/local/lib/python3.11/dist-packages (from ultralytics) (2.5.1+cu124)\n",
            "Requirement already satisfied: torchvision>=0.9.0 in /usr/local/lib/python3.11/dist-packages (from ultralytics) (0.20.1+cu124)\n",
            "Requirement already satisfied: tqdm>=4.64.0 in /usr/local/lib/python3.11/dist-packages (from ultralytics) (4.67.1)\n",
            "Requirement already satisfied: psutil in /usr/local/lib/python3.11/dist-packages (from ultralytics) (5.9.5)\n",
            "Requirement already satisfied: py-cpuinfo in /usr/local/lib/python3.11/dist-packages (from ultralytics) (9.0.0)\n",
            "Requirement already satisfied: pandas>=1.1.4 in /usr/local/lib/python3.11/dist-packages (from ultralytics) (2.2.2)\n",
            "Requirement already satisfied: seaborn>=0.11.0 in /usr/local/lib/python3.11/dist-packages (from ultralytics) (0.13.2)\n",
            "Collecting ultralytics-thop>=2.0.0 (from ultralytics)\n",
            "  Downloading ultralytics_thop-2.0.14-py3-none-any.whl.metadata (9.4 kB)\n",
            "Requirement already satisfied: contourpy>=1.0.1 in /usr/local/lib/python3.11/dist-packages (from matplotlib>=3.3.0->ultralytics) (1.3.1)\n",
            "Requirement already satisfied: cycler>=0.10 in /usr/local/lib/python3.11/dist-packages (from matplotlib>=3.3.0->ultralytics) (0.12.1)\n",
            "Requirement already satisfied: fonttools>=4.22.0 in /usr/local/lib/python3.11/dist-packages (from matplotlib>=3.3.0->ultralytics) (4.56.0)\n",
            "Requirement already satisfied: kiwisolver>=1.3.1 in /usr/local/lib/python3.11/dist-packages (from matplotlib>=3.3.0->ultralytics) (1.4.8)\n",
            "Requirement already satisfied: packaging>=20.0 in /usr/local/lib/python3.11/dist-packages (from matplotlib>=3.3.0->ultralytics) (24.2)\n",
            "Requirement already satisfied: pyparsing>=2.3.1 in /usr/local/lib/python3.11/dist-packages (from matplotlib>=3.3.0->ultralytics) (3.2.1)\n",
            "Requirement already satisfied: python-dateutil>=2.7 in /usr/local/lib/python3.11/dist-packages (from matplotlib>=3.3.0->ultralytics) (2.8.2)\n",
            "Requirement already satisfied: pytz>=2020.1 in /usr/local/lib/python3.11/dist-packages (from pandas>=1.1.4->ultralytics) (2025.1)\n",
            "Requirement already satisfied: tzdata>=2022.7 in /usr/local/lib/python3.11/dist-packages (from pandas>=1.1.4->ultralytics) (2025.1)\n",
            "Requirement already satisfied: charset-normalizer<4,>=2 in /usr/local/lib/python3.11/dist-packages (from requests>=2.23.0->ultralytics) (3.4.1)\n",
            "Requirement already satisfied: idna<4,>=2.5 in /usr/local/lib/python3.11/dist-packages (from requests>=2.23.0->ultralytics) (3.10)\n",
            "Requirement already satisfied: urllib3<3,>=1.21.1 in /usr/local/lib/python3.11/dist-packages (from requests>=2.23.0->ultralytics) (2.3.0)\n",
            "Requirement already satisfied: certifi>=2017.4.17 in /usr/local/lib/python3.11/dist-packages (from requests>=2.23.0->ultralytics) (2025.1.31)\n",
            "Requirement already satisfied: filelock in /usr/local/lib/python3.11/dist-packages (from torch>=1.8.0->ultralytics) (3.17.0)\n",
            "Requirement already satisfied: typing-extensions>=4.8.0 in /usr/local/lib/python3.11/dist-packages (from torch>=1.8.0->ultralytics) (4.12.2)\n",
            "Requirement already satisfied: networkx in /usr/local/lib/python3.11/dist-packages (from torch>=1.8.0->ultralytics) (3.4.2)\n",
            "Requirement already satisfied: jinja2 in /usr/local/lib/python3.11/dist-packages (from torch>=1.8.0->ultralytics) (3.1.5)\n",
            "Requirement already satisfied: fsspec in /usr/local/lib/python3.11/dist-packages (from torch>=1.8.0->ultralytics) (2024.10.0)\n",
            "Collecting nvidia-cuda-nvrtc-cu12==12.4.127 (from torch>=1.8.0->ultralytics)\n",
            "  Downloading nvidia_cuda_nvrtc_cu12-12.4.127-py3-none-manylinux2014_x86_64.whl.metadata (1.5 kB)\n",
            "Collecting nvidia-cuda-runtime-cu12==12.4.127 (from torch>=1.8.0->ultralytics)\n",
            "  Downloading nvidia_cuda_runtime_cu12-12.4.127-py3-none-manylinux2014_x86_64.whl.metadata (1.5 kB)\n",
            "Collecting nvidia-cuda-cupti-cu12==12.4.127 (from torch>=1.8.0->ultralytics)\n",
            "  Downloading nvidia_cuda_cupti_cu12-12.4.127-py3-none-manylinux2014_x86_64.whl.metadata (1.6 kB)\n",
            "Collecting nvidia-cudnn-cu12==9.1.0.70 (from torch>=1.8.0->ultralytics)\n",
            "  Downloading nvidia_cudnn_cu12-9.1.0.70-py3-none-manylinux2014_x86_64.whl.metadata (1.6 kB)\n",
            "Collecting nvidia-cublas-cu12==12.4.5.8 (from torch>=1.8.0->ultralytics)\n",
            "  Downloading nvidia_cublas_cu12-12.4.5.8-py3-none-manylinux2014_x86_64.whl.metadata (1.5 kB)\n",
            "Collecting nvidia-cufft-cu12==11.2.1.3 (from torch>=1.8.0->ultralytics)\n",
            "  Downloading nvidia_cufft_cu12-11.2.1.3-py3-none-manylinux2014_x86_64.whl.metadata (1.5 kB)\n",
            "Collecting nvidia-curand-cu12==10.3.5.147 (from torch>=1.8.0->ultralytics)\n",
            "  Downloading nvidia_curand_cu12-10.3.5.147-py3-none-manylinux2014_x86_64.whl.metadata (1.5 kB)\n",
            "Collecting nvidia-cusolver-cu12==11.6.1.9 (from torch>=1.8.0->ultralytics)\n",
            "  Downloading nvidia_cusolver_cu12-11.6.1.9-py3-none-manylinux2014_x86_64.whl.metadata (1.6 kB)\n",
            "Collecting nvidia-cusparse-cu12==12.3.1.170 (from torch>=1.8.0->ultralytics)\n",
            "  Downloading nvidia_cusparse_cu12-12.3.1.170-py3-none-manylinux2014_x86_64.whl.metadata (1.6 kB)\n",
            "Requirement already satisfied: nvidia-nccl-cu12==2.21.5 in /usr/local/lib/python3.11/dist-packages (from torch>=1.8.0->ultralytics) (2.21.5)\n",
            "Requirement already satisfied: nvidia-nvtx-cu12==12.4.127 in /usr/local/lib/python3.11/dist-packages (from torch>=1.8.0->ultralytics) (12.4.127)\n",
            "Collecting nvidia-nvjitlink-cu12==12.4.127 (from torch>=1.8.0->ultralytics)\n",
            "  Downloading nvidia_nvjitlink_cu12-12.4.127-py3-none-manylinux2014_x86_64.whl.metadata (1.5 kB)\n",
            "Requirement already satisfied: triton==3.1.0 in /usr/local/lib/python3.11/dist-packages (from torch>=1.8.0->ultralytics) (3.1.0)\n",
            "Requirement already satisfied: sympy==1.13.1 in /usr/local/lib/python3.11/dist-packages (from torch>=1.8.0->ultralytics) (1.13.1)\n",
            "Requirement already satisfied: mpmath<1.4,>=1.1.0 in /usr/local/lib/python3.11/dist-packages (from sympy==1.13.1->torch>=1.8.0->ultralytics) (1.3.0)\n",
            "Requirement already satisfied: six>=1.5 in /usr/local/lib/python3.11/dist-packages (from python-dateutil>=2.7->matplotlib>=3.3.0->ultralytics) (1.17.0)\n",
            "Requirement already satisfied: MarkupSafe>=2.0 in /usr/local/lib/python3.11/dist-packages (from jinja2->torch>=1.8.0->ultralytics) (3.0.2)\n",
            "Downloading ultralytics-8.3.86-py3-none-any.whl (922 kB)\n",
            "\u001b[2K   \u001b[90m━━━━━━━━━━━━━━━━━━━━━━━━━━━━━━━━━━━━━━━━\u001b[0m \u001b[32m922.6/922.6 kB\u001b[0m \u001b[31m14.5 MB/s\u001b[0m eta \u001b[36m0:00:00\u001b[0m\n",
            "\u001b[?25hDownloading nvidia_cublas_cu12-12.4.5.8-py3-none-manylinux2014_x86_64.whl (363.4 MB)\n",
            "\u001b[2K   \u001b[90m━━━━━━━━━━━━━━━━━━━━━━━━━━━━━━━━━━━━━━━━\u001b[0m \u001b[32m363.4/363.4 MB\u001b[0m \u001b[31m3.8 MB/s\u001b[0m eta \u001b[36m0:00:00\u001b[0m\n",
            "\u001b[?25hDownloading nvidia_cuda_cupti_cu12-12.4.127-py3-none-manylinux2014_x86_64.whl (13.8 MB)\n",
            "\u001b[2K   \u001b[90m━━━━━━━━━━━━━━━━━━━━━━━━━━━━━━━━━━━━━━━━\u001b[0m \u001b[32m13.8/13.8 MB\u001b[0m \u001b[31m99.7 MB/s\u001b[0m eta \u001b[36m0:00:00\u001b[0m\n",
            "\u001b[?25hDownloading nvidia_cuda_nvrtc_cu12-12.4.127-py3-none-manylinux2014_x86_64.whl (24.6 MB)\n",
            "\u001b[2K   \u001b[90m━━━━━━━━━━━━━━━━━━━━━━━━━━━━━━━━━━━━━━━━\u001b[0m \u001b[32m24.6/24.6 MB\u001b[0m \u001b[31m78.3 MB/s\u001b[0m eta \u001b[36m0:00:00\u001b[0m\n",
            "\u001b[?25hDownloading nvidia_cuda_runtime_cu12-12.4.127-py3-none-manylinux2014_x86_64.whl (883 kB)\n",
            "\u001b[2K   \u001b[90m━━━━━━━━━━━━━━━━━━━━━━━━━━━━━━━━━━━━━━━━\u001b[0m \u001b[32m883.7/883.7 kB\u001b[0m \u001b[31m59.8 MB/s\u001b[0m eta \u001b[36m0:00:00\u001b[0m\n",
            "\u001b[?25hDownloading nvidia_cudnn_cu12-9.1.0.70-py3-none-manylinux2014_x86_64.whl (664.8 MB)\n",
            "\u001b[2K   \u001b[90m━━━━━━━━━━━━━━━━━━━━━━━━━━━━━━━━━━━━━━━━\u001b[0m \u001b[32m664.8/664.8 MB\u001b[0m \u001b[31m1.4 MB/s\u001b[0m eta \u001b[36m0:00:00\u001b[0m\n",
            "\u001b[?25hDownloading nvidia_cufft_cu12-11.2.1.3-py3-none-manylinux2014_x86_64.whl (211.5 MB)\n",
            "\u001b[2K   \u001b[90m━━━━━━━━━━━━━━━━━━━━━━━━━━━━━━━━━━━━━━━━\u001b[0m \u001b[32m211.5/211.5 MB\u001b[0m \u001b[31m5.2 MB/s\u001b[0m eta \u001b[36m0:00:00\u001b[0m\n",
            "\u001b[?25hDownloading nvidia_curand_cu12-10.3.5.147-py3-none-manylinux2014_x86_64.whl (56.3 MB)\n",
            "\u001b[2K   \u001b[90m━━━━━━━━━━━━━━━━━━━━━━━━━━━━━━━━━━━━━━━━\u001b[0m \u001b[32m56.3/56.3 MB\u001b[0m \u001b[31m13.0 MB/s\u001b[0m eta \u001b[36m0:00:00\u001b[0m\n",
            "\u001b[?25hDownloading nvidia_cusolver_cu12-11.6.1.9-py3-none-manylinux2014_x86_64.whl (127.9 MB)\n",
            "\u001b[2K   \u001b[90m━━━━━━━━━━━━━━━━━━━━━━━━━━━━━━━━━━━━━━━━\u001b[0m \u001b[32m127.9/127.9 MB\u001b[0m \u001b[31m7.4 MB/s\u001b[0m eta \u001b[36m0:00:00\u001b[0m\n",
            "\u001b[?25hDownloading nvidia_cusparse_cu12-12.3.1.170-py3-none-manylinux2014_x86_64.whl (207.5 MB)\n",
            "\u001b[2K   \u001b[90m━━━━━━━━━━━━━━━━━━━━━━━━━━━━━━━━━━━━━━━━\u001b[0m \u001b[32m207.5/207.5 MB\u001b[0m \u001b[31m6.2 MB/s\u001b[0m eta \u001b[36m0:00:00\u001b[0m\n",
            "\u001b[?25hDownloading nvidia_nvjitlink_cu12-12.4.127-py3-none-manylinux2014_x86_64.whl (21.1 MB)\n",
            "\u001b[2K   \u001b[90m━━━━━━━━━━━━━━━━━━━━━━━━━━━━━━━━━━━━━━━━\u001b[0m \u001b[32m21.1/21.1 MB\u001b[0m \u001b[31m87.5 MB/s\u001b[0m eta \u001b[36m0:00:00\u001b[0m\n",
            "\u001b[?25hDownloading ultralytics_thop-2.0.14-py3-none-any.whl (26 kB)\n",
            "Installing collected packages: nvidia-nvjitlink-cu12, nvidia-curand-cu12, nvidia-cufft-cu12, nvidia-cuda-runtime-cu12, nvidia-cuda-nvrtc-cu12, nvidia-cuda-cupti-cu12, nvidia-cublas-cu12, nvidia-cusparse-cu12, nvidia-cudnn-cu12, nvidia-cusolver-cu12, ultralytics-thop, ultralytics\n",
            "  Attempting uninstall: nvidia-nvjitlink-cu12\n",
            "    Found existing installation: nvidia-nvjitlink-cu12 12.5.82\n",
            "    Uninstalling nvidia-nvjitlink-cu12-12.5.82:\n",
            "      Successfully uninstalled nvidia-nvjitlink-cu12-12.5.82\n",
            "  Attempting uninstall: nvidia-curand-cu12\n",
            "    Found existing installation: nvidia-curand-cu12 10.3.6.82\n",
            "    Uninstalling nvidia-curand-cu12-10.3.6.82:\n",
            "      Successfully uninstalled nvidia-curand-cu12-10.3.6.82\n",
            "  Attempting uninstall: nvidia-cufft-cu12\n",
            "    Found existing installation: nvidia-cufft-cu12 11.2.3.61\n",
            "    Uninstalling nvidia-cufft-cu12-11.2.3.61:\n",
            "      Successfully uninstalled nvidia-cufft-cu12-11.2.3.61\n",
            "  Attempting uninstall: nvidia-cuda-runtime-cu12\n",
            "    Found existing installation: nvidia-cuda-runtime-cu12 12.5.82\n",
            "    Uninstalling nvidia-cuda-runtime-cu12-12.5.82:\n",
            "      Successfully uninstalled nvidia-cuda-runtime-cu12-12.5.82\n",
            "  Attempting uninstall: nvidia-cuda-nvrtc-cu12\n",
            "    Found existing installation: nvidia-cuda-nvrtc-cu12 12.5.82\n",
            "    Uninstalling nvidia-cuda-nvrtc-cu12-12.5.82:\n",
            "      Successfully uninstalled nvidia-cuda-nvrtc-cu12-12.5.82\n",
            "  Attempting uninstall: nvidia-cuda-cupti-cu12\n",
            "    Found existing installation: nvidia-cuda-cupti-cu12 12.5.82\n",
            "    Uninstalling nvidia-cuda-cupti-cu12-12.5.82:\n",
            "      Successfully uninstalled nvidia-cuda-cupti-cu12-12.5.82\n",
            "  Attempting uninstall: nvidia-cublas-cu12\n",
            "    Found existing installation: nvidia-cublas-cu12 12.5.3.2\n",
            "    Uninstalling nvidia-cublas-cu12-12.5.3.2:\n",
            "      Successfully uninstalled nvidia-cublas-cu12-12.5.3.2\n",
            "  Attempting uninstall: nvidia-cusparse-cu12\n",
            "    Found existing installation: nvidia-cusparse-cu12 12.5.1.3\n",
            "    Uninstalling nvidia-cusparse-cu12-12.5.1.3:\n",
            "      Successfully uninstalled nvidia-cusparse-cu12-12.5.1.3\n",
            "  Attempting uninstall: nvidia-cudnn-cu12\n",
            "    Found existing installation: nvidia-cudnn-cu12 9.3.0.75\n",
            "    Uninstalling nvidia-cudnn-cu12-9.3.0.75:\n",
            "      Successfully uninstalled nvidia-cudnn-cu12-9.3.0.75\n",
            "  Attempting uninstall: nvidia-cusolver-cu12\n",
            "    Found existing installation: nvidia-cusolver-cu12 11.6.3.83\n",
            "    Uninstalling nvidia-cusolver-cu12-11.6.3.83:\n",
            "      Successfully uninstalled nvidia-cusolver-cu12-11.6.3.83\n",
            "Successfully installed nvidia-cublas-cu12-12.4.5.8 nvidia-cuda-cupti-cu12-12.4.127 nvidia-cuda-nvrtc-cu12-12.4.127 nvidia-cuda-runtime-cu12-12.4.127 nvidia-cudnn-cu12-9.1.0.70 nvidia-cufft-cu12-11.2.1.3 nvidia-curand-cu12-10.3.5.147 nvidia-cusolver-cu12-11.6.1.9 nvidia-cusparse-cu12-12.3.1.170 nvidia-nvjitlink-cu12-12.4.127 ultralytics-8.3.86 ultralytics-thop-2.0.14\n"
          ]
        }
      ],
      "source": [
        "# Instalar a biblioteca ultralytics\n",
        "pip install ultralytics"
      ]
    },
    {
      "cell_type": "code",
      "execution_count": null,
      "metadata": {
        "colab": {
          "base_uri": "https://localhost:8080/"
        },
        "id": "7gB6fdnFVvf1",
        "outputId": "5edff065-3bdb-42b5-9506-1b67e169339f"
      },
      "outputs": [
        {
          "output_type": "stream",
          "name": "stdout",
          "text": [
            "Creating new Ultralytics Settings v0.0.6 file ✅ \n",
            "View Ultralytics Settings with 'yolo settings' or at '/root/.config/Ultralytics/settings.json'\n",
            "Update Settings with 'yolo settings key=value', i.e. 'yolo settings runs_dir=path/to/dir'. For help see https://docs.ultralytics.com/quickstart/#ultralytics-settings.\n"
          ]
        }
      ],
      "source": [
        "# Importando o modelo YOLO\n",
        "from ultralytics import YOLO"
      ]
    },
    {
      "cell_type": "code",
      "execution_count": null,
      "metadata": {
        "colab": {
          "base_uri": "https://localhost:8080/"
        },
        "id": "EeEidYDOVBH9",
        "outputId": "057f42e4-c884-4952-9570-8011d38efe13",
        "collapsed": true
      },
      "outputs": [
        {
          "output_type": "stream",
          "name": "stdout",
          "text": [
            "Ultralytics 8.3.86 🚀 Python-3.11.11 torch-2.5.1+cu124 CPU (Intel Xeon 2.20GHz)\n",
            "Model summary (fused): 112 layers, 68,124,531 parameters, 0 gradients, 257.4 GFLOPs\n",
            "\n",
            "image 1/64 /content/Predict_jpg/img_1.jpg: 640x640 1 Pinus, 4056.4ms\n",
            "image 2/64 /content/Predict_jpg/img_10.jpg: 640x640 (no detections), 5088.2ms\n",
            "image 3/64 /content/Predict_jpg/img_11.jpg: 640x640 2 Pinuss, 3756.3ms\n",
            "image 4/64 /content/Predict_jpg/img_12.jpg: 640x640 (no detections), 3731.4ms\n",
            "image 5/64 /content/Predict_jpg/img_13.jpg: 640x640 1 Pinus, 5262.3ms\n",
            "image 6/64 /content/Predict_jpg/img_14.jpg: 640x640 1 Pinus, 3791.8ms\n",
            "image 7/64 /content/Predict_jpg/img_15.jpg: 640x640 (no detections), 3753.0ms\n",
            "image 8/64 /content/Predict_jpg/img_16.jpg: 640x640 1 Pinus, 5193.3ms\n",
            "image 9/64 /content/Predict_jpg/img_17.jpg: 640x640 1 Pinus, 3821.8ms\n",
            "image 10/64 /content/Predict_jpg/img_18.jpg: 640x640 3 Pinuss, 3764.8ms\n",
            "image 11/64 /content/Predict_jpg/img_19.jpg: 640x640 (no detections), 4644.3ms\n",
            "image 12/64 /content/Predict_jpg/img_2.jpg: 640x640 1 Pinus, 4356.6ms\n",
            "image 13/64 /content/Predict_jpg/img_20.jpg: 640x640 (no detections), 3797.3ms\n",
            "image 14/64 /content/Predict_jpg/img_21.jpg: 640x640 2 Pinuss, 4086.6ms\n",
            "image 15/64 /content/Predict_jpg/img_22.jpg: 640x640 4 Pinuss, 6088.3ms\n",
            "image 16/64 /content/Predict_jpg/img_23.jpg: 640x640 2 Pinuss, 3804.3ms\n",
            "image 17/64 /content/Predict_jpg/img_24.jpg: 640x640 2 Pinuss, 4072.9ms\n",
            "image 18/64 /content/Predict_jpg/img_25.jpg: 640x640 5 Pinuss, 4945.5ms\n",
            "image 19/64 /content/Predict_jpg/img_26.jpg: 640x640 (no detections), 3762.8ms\n",
            "image 20/64 /content/Predict_jpg/img_27.jpg: 640x640 5 Pinuss, 3799.5ms\n",
            "image 21/64 /content/Predict_jpg/img_28.jpg: 640x640 (no detections), 5264.1ms\n",
            "image 22/64 /content/Predict_jpg/img_29.jpg: 640x640 4 Pinuss, 3777.2ms\n",
            "image 23/64 /content/Predict_jpg/img_3.jpg: 640x640 1 Pinus, 3803.0ms\n",
            "image 24/64 /content/Predict_jpg/img_30.jpg: 640x640 2 Pinuss, 5263.7ms\n",
            "image 25/64 /content/Predict_jpg/img_31.jpg: 640x640 (no detections), 3785.3ms\n",
            "image 26/64 /content/Predict_jpg/img_32.jpg: 640x640 3 Pinuss, 3798.7ms\n",
            "image 27/64 /content/Predict_jpg/img_33.jpg: 640x640 (no detections), 4900.6ms\n",
            "image 28/64 /content/Predict_jpg/img_34.jpg: 640x640 2 Pinuss, 4130.0ms\n",
            "image 29/64 /content/Predict_jpg/img_35.jpg: 640x640 (no detections), 3782.8ms\n",
            "image 30/64 /content/Predict_jpg/img_36.jpg: 640x640 (no detections), 4366.7ms\n",
            "image 31/64 /content/Predict_jpg/img_37.jpg: 640x640 (no detections), 4659.7ms\n",
            "image 32/64 /content/Predict_jpg/img_38.jpg: 640x640 (no detections), 3788.1ms\n",
            "image 33/64 /content/Predict_jpg/img_39.jpg: 640x640 3 Pinuss, 3775.6ms\n",
            "image 34/64 /content/Predict_jpg/img_4.jpg: 640x640 (no detections), 5223.8ms\n",
            "image 35/64 /content/Predict_jpg/img_40.jpg: 640x640 3 Pinuss, 3780.5ms\n",
            "image 36/64 /content/Predict_jpg/img_41.jpg: 640x640 1 Pinus, 3781.0ms\n",
            "image 37/64 /content/Predict_jpg/img_42.jpg: 640x640 4 Pinuss, 5282.5ms\n",
            "image 38/64 /content/Predict_jpg/img_43.jpg: 640x640 3 Pinuss, 3773.6ms\n",
            "image 39/64 /content/Predict_jpg/img_44.jpg: 640x640 (no detections), 3796.5ms\n",
            "image 40/64 /content/Predict_jpg/img_45.jpg: 640x640 1 Pinus, 5197.4ms\n",
            "image 41/64 /content/Predict_jpg/img_46.jpg: 640x640 1 Pinus, 3867.2ms\n",
            "image 42/64 /content/Predict_jpg/img_47.jpg: 640x640 8 Pinuss, 3785.4ms\n",
            "image 43/64 /content/Predict_jpg/img_48.jpg: 640x640 2 Pinuss, 4647.5ms\n",
            "image 44/64 /content/Predict_jpg/img_49.jpg: 640x640 3 Pinuss, 4383.2ms\n",
            "image 45/64 /content/Predict_jpg/img_5.jpg: 640x640 (no detections), 3790.0ms\n",
            "image 46/64 /content/Predict_jpg/img_50.jpg: 640x640 3 Pinuss, 4085.1ms\n",
            "image 47/64 /content/Predict_jpg/img_51.jpg: 640x640 (no detections), 4920.7ms\n",
            "image 48/64 /content/Predict_jpg/img_52.jpg: 640x640 (no detections), 3790.5ms\n",
            "image 49/64 /content/Predict_jpg/img_53.jpg: 640x640 (no detections), 3800.0ms\n",
            "image 50/64 /content/Predict_jpg/img_54.jpg: 640x640 3 Pinuss, 5237.4ms\n",
            "image 51/64 /content/Predict_jpg/img_55.jpg: 640x640 6 Pinuss, 3795.4ms\n",
            "image 52/64 /content/Predict_jpg/img_56.jpg: 640x640 6 Pinuss, 3792.1ms\n",
            "image 53/64 /content/Predict_jpg/img_57.jpg: 640x640 4 Pinuss, 5240.8ms\n",
            "image 54/64 /content/Predict_jpg/img_58.jpg: 640x640 3 Pinuss, 3776.7ms\n",
            "image 55/64 /content/Predict_jpg/img_59.jpg: 640x640 (no detections), 3789.2ms\n",
            "image 56/64 /content/Predict_jpg/img_6.jpg: 640x640 (no detections), 4976.6ms\n",
            "image 57/64 /content/Predict_jpg/img_60.jpg: 640x640 (no detections), 4039.3ms\n",
            "image 58/64 /content/Predict_jpg/img_61.jpg: 640x640 1 Pinus, 3822.6ms\n",
            "image 59/64 /content/Predict_jpg/img_62.jpg: 640x640 1 Pinus, 4427.7ms\n",
            "image 60/64 /content/Predict_jpg/img_63.jpg: 640x640 1 Pinus, 4581.2ms\n",
            "image 61/64 /content/Predict_jpg/img_64.jpg: 640x640 1 Pinus, 3775.9ms\n",
            "image 62/64 /content/Predict_jpg/img_7.jpg: 640x640 4 Pinuss, 3861.6ms\n",
            "image 63/64 /content/Predict_jpg/img_8.jpg: 640x640 1 Pinus, 5160.4ms\n",
            "image 64/64 /content/Predict_jpg/img_9.jpg: 640x640 1 Pinus, 3788.1ms\n",
            "Speed: 2.9ms preprocess, 4260.0ms inference, 1.1ms postprocess per image at shape (1, 3, 640, 640)\n",
            "Results saved to \u001b[1mruns/detect/predict\u001b[0m\n",
            "42 labels saved to runs/detect/predict/labels\n",
            "💡 Learn more at https://docs.ultralytics.com/modes/predict\n"
          ]
        }
      ],
      "source": [
        "# Comando para detecção: tarefa: detect, modo: predict, modelo: melhor modelo, confiança (50%), local onde as imagens jpg estão armazenadas, salvae imagem e salvar rótulo.\n",
        "!yolo task=detect mode=predict model=\"/content/drive/MyDrive/best773_200.pt\" conf=0.50 source= \"/content/Predict_jpg\" save=True save_txt=True"
      ]
    },
    {
      "cell_type": "code",
      "execution_count": null,
      "metadata": {
        "id": "a3tgGQM3A20F"
      },
      "outputs": [],
      "source": [
        "# Listar as imagens jpg e o a pasta onde os resultados estão e associar os rótulos às imagens tif e reconverter para as coordenadas do ortomosaico (x 640)\n",
        "ls_x = []\n",
        "ls_y = []\n",
        "imgs_to_pred = [f for f in os.listdir('/content/runs/detect/predict/labels') if f.endswith('.txt')]\n",
        "for images in imgs_to_pred:\n",
        "  filename = images.split('.')[0]\n",
        "  src = rasterio.open('/content/Predict/' + filename + '.tif')\n",
        "  path = f'/content/runs/detect/predict/labels/'+filename+'.txt'\n",
        "  cols = ['class', 'x-center', 'y-center', 'x_extend', 'y_extend']\n",
        "  df = pd.read_csv(path, sep=\" \", header=None)\n",
        "  df.columns = cols\n",
        "  df['x-center'] = np.round(df['x-center'] * 640)\n",
        "  df['y-center'] = np.round(df['y-center'] * 640)\n",
        "  for i,row in df.iterrows():\n",
        "    xs, ys = rasterio.transform.xy(src.transform, row['y-center'], row['x-center'])\n",
        "    ls_x.append(xs)\n",
        "    ls_y.append(ys)"
      ]
    },
    {
      "cell_type": "code",
      "execution_count": null,
      "metadata": {
        "id": "WsiJiT4yBAzV"
      },
      "outputs": [],
      "source": [
        "df_xy = pd.DataFrame([])\n",
        "df_xy['x'] = ls_x\n",
        "df_xy['y'] = ls_y"
      ]
    },
    {
      "cell_type": "code",
      "execution_count": null,
      "metadata": {
        "id": "N44Xov-jBEFt"
      },
      "outputs": [],
      "source": [
        "gdf = gpd.GeoDataFrame(df_xy, geometry=gpd.points_from_xy(df_xy['x'], df_xy['y']))"
      ]
    },
    {
      "cell_type": "code",
      "execution_count": null,
      "metadata": {
        "colab": {
          "base_uri": "https://localhost:8080/"
        },
        "id": "9Kl4VVvxBIP1",
        "outputId": "2356f776-4e8b-4178-8649-34b67bc5ab6f"
      },
      "outputs": [
        {
          "output_type": "stream",
          "name": "stdout",
          "text": [
            "EPSG:31982\n"
          ]
        }
      ],
      "source": [
        "# Conferindo o Sistema de Coordenadas (Ex: SIRGAS 2000)\n",
        "print(src_img.crs)"
      ]
    },
    {
      "cell_type": "code",
      "execution_count": null,
      "metadata": {
        "id": "uVF7h9o5BNoN"
      },
      "outputs": [],
      "source": [
        "gdf = gdf.set_crs(src_img.crs.to_dict())"
      ]
    },
    {
      "cell_type": "code",
      "execution_count": null,
      "metadata": {
        "id": "2f-l5ZwcBRIl"
      },
      "outputs": [],
      "source": [
        "# Visualizando as detecções no ortomosaico - centroide das caixas delimitadoras\n",
        "fig, ax = plt.subplots(figsize=(40, 40))\n",
        "show((src_img), ax=ax)\n",
        "gdf.plot(ax=ax,  marker='o', color='red', markersize=60)"
      ]
    },
    {
      "cell_type": "code",
      "execution_count": null,
      "metadata": {
        "id": "LLrQ0xrsEJd-"
      },
      "outputs": [],
      "source": [
        "# Salvendo os centroides em formato JSON\n",
        "gdf.to_file('/content/pinus_detect.json', driver=\"GeoJSON\")"
      ]
    },
    {
      "cell_type": "code",
      "execution_count": null,
      "metadata": {
        "id": "HCVe5NuMeBnv"
      },
      "outputs": [],
      "source": [
        "# Exportar as detecções para uma pasta no Google Drive específica\n",
        "!cp -R /content/runs/detect/predict # '/content/drive/MyDrive criar uma pasta'"
      ]
    },
    {
      "cell_type": "code",
      "source": [
        "# A partir das coordenadas dos centróides criar um shapefile com as quatro coordenadas da caixa delimitadora\n",
        "# Lista para armazenar os polígonos das caixas delimitadoras\n",
        "boxes_list = []\n",
        "\n",
        "# Listar arquivos de labels\n",
        "imgs_to_pred = [f for f in os.listdir('/content/runs/detect/predict/labels') if f.endswith('.txt')]\n",
        "\n",
        "for images in imgs_to_pred:\n",
        "    filename = images.split('.')[0]\n",
        "    src = rasterio.open(f'/content/Predict/{filename}.tif')\n",
        "    path = f'/content/runs/detect/predict/labels/{filename}.txt'\n",
        "\n",
        "    # Ler arquivo de detecções\n",
        "    cols = ['class', 'x-center', 'y-center', 'x_extend', 'y_extend']\n",
        "    df = pd.read_csv(path, sep=\" \", header=None)\n",
        "    df.columns = cols\n",
        "\n",
        "    # Converter para pixels da imagem (assumindo 640x640)\n",
        "    df['x-center'] = np.round(df['x-center'] * 640)\n",
        "    df['y-center'] = np.round(df['y-center'] * 640)\n",
        "    df['x_extend'] = np.round(df['x_extend'] * 640)\n",
        "    df['y_extend'] = np.round(df['y_extend'] * 640)\n",
        "\n",
        "    for _, row in df.iterrows():\n",
        "        # Calcular coordenadas da bounding box (em pixels)\n",
        "        x_min = row['x-center'] - (row['x_extend'] / 2)\n",
        "        x_max = row['x-center'] + (row['x_extend'] / 2)\n",
        "        y_min = row['y-center'] - (row['y_extend'] / 2)\n",
        "        y_max = row['y-center'] + (row['y_extend'] / 2)\n",
        "\n",
        "        # Converter para coordenadas geográficas\n",
        "        x_min_geo, y_min_geo = rasterio.transform.xy(src.transform, y_max, x_min)\n",
        "        x_max_geo, y_max_geo = rasterio.transform.xy(src.transform, y_min, x_max)\n",
        "        x_min_geo, y_max_geo = rasterio.transform.xy(src.transform, y_min, x_min)\n",
        "        x_max_geo, y_min_geo = rasterio.transform.xy(src.transform, y_max, x_max)\n",
        "\n",
        "        # Criar polígono da bounding box\n",
        "        polygon = Polygon([\n",
        "            (x_min_geo, y_min_geo),\n",
        "            (x_min_geo, y_max_geo),\n",
        "            (x_max_geo, y_max_geo),\n",
        "            (x_max_geo, y_min_geo),\n",
        "            (x_min_geo, y_min_geo)  # Fechar o polígono\n",
        "        ])\n",
        "\n",
        "        # Armazenar os dados no GeoDataFrame\n",
        "        boxes_list.append({\n",
        "            \"filename\": filename,\n",
        "            \"class\": row[\"class\"],\n",
        "            \"geometry\": polygon\n",
        "        })\n",
        "\n",
        "# Criar GeoDataFrame\n",
        "gdf = gpd.GeoDataFrame(boxes_list, crs=src.crs)  # Define o CRS a partir do raster original\n",
        "\n",
        "# Salvar como Shapefile\n",
        "output_shp = \"/content/detected_boxes.shp\"\n",
        "gdf.to_file(output_shp)\n",
        "\n",
        "print(f\"Shapefile salvo em: {output_shp}\")\n"
      ],
      "metadata": {
        "colab": {
          "base_uri": "https://localhost:8080/"
        },
        "id": "EzBG7v-xEkWl",
        "outputId": "b1aa9c59-94ea-4a7b-f929-fa37dca5d4c3"
      },
      "execution_count": null,
      "outputs": [
        {
          "output_type": "stream",
          "name": "stdout",
          "text": [
            "Shapefile salvo em: /content/detected_boxes.shp\n"
          ]
        }
      ]
    },
    {
      "cell_type": "markdown",
      "source": [
        "Alternativamente pode-se criar os centroides em shapefile com o código abaixo"
      ],
      "metadata": {
        "id": "LGyhQ2df0fWD"
      }
    },
    {
      "cell_type": "code",
      "source": [
        "# Lista para armazenar os pontos dos centróides\n",
        "centroid_list = []\n",
        "\n",
        "# Diretórios dos arquivos\n",
        "labels_dir = \"/content/runs/detect/predict/labels\"\n",
        "raster_dir = \"/content/Predict\"\n",
        "output_shp = \"/content/centroides.shp\"  # Novo shapefile só com centróides\n",
        "\n",
        "# Listar arquivos de labels\n",
        "imgs_to_pred = [f for f in os.listdir(labels_dir) if f.endswith('.txt')]\n",
        "\n",
        "for images in imgs_to_pred:\n",
        "    filename = images.split('.')[0]\n",
        "    raster_path = os.path.join(raster_dir, f\"{filename}.tif\")\n",
        "    label_path = os.path.join(labels_dir, f\"{filename}.txt\")\n",
        "\n",
        "    if not os.path.exists(raster_path):\n",
        "        print(f\"⚠️ Raster não encontrado: {raster_path}\")\n",
        "        continue\n",
        "\n",
        "    src = rasterio.open(raster_path)\n",
        "\n",
        "    # Ler arquivo de detecções\n",
        "    cols = ['class', 'x-center', 'y-center', 'x_extend', 'y_extend']\n",
        "    df = pd.read_csv(label_path, sep=\" \", header=None)\n",
        "    df.columns = cols\n",
        "\n",
        "    # Converter coordenadas normalizadas para pixels (assumindo 640x640)\n",
        "    df['x-center'] = np.round(df['x-center'] * 640)\n",
        "    df['y-center'] = np.round(df['y-center'] * 640)\n",
        "\n",
        "    for _, row in df.iterrows():\n",
        "        # Converter coordenadas do centro para geográficas\n",
        "        x_geo, y_geo = rasterio.transform.xy(src.transform, row['y-center'], row['x-center'])\n",
        "\n",
        "        # Criar ponto do centróide\n",
        "        point = Point(x_geo, y_geo)\n",
        "\n",
        "        # Armazenar os dados no GeoDataFrame\n",
        "        centroid_list.append({\n",
        "            \"filename\": filename,\n",
        "            \"class\": row[\"class\"],\n",
        "            \"geometry\": point\n",
        "        })\n",
        "\n",
        "# Criar GeoDataFrame com centróides\n",
        "gdf_centroids = gpd.GeoDataFrame(centroid_list, crs=src.crs)  # CRS da imagem original\n",
        "\n",
        "# Se CRS estiver indefinido, definir manualmente como SIRGAS 2000 / UTM 22S (EPSG:31982)\n",
        "if gdf_centroids.crs is None:\n",
        "    gdf_centroids.set_crs(epsg=31982, inplace=True)\n",
        "\n",
        "# Salvar como Shapefile\n",
        "gdf_centroids.to_file(output_shp, driver=\"ESRI Shapefile\")\n",
        "\n",
        "print(f\"✅ Shapefile de centróides salvo com sucesso em: {output_shp} (EPSG:31982)\")\n"
      ],
      "metadata": {
        "colab": {
          "base_uri": "https://localhost:8080/"
        },
        "id": "FUQxPtZbs9m9",
        "outputId": "1b76b91e-ac9a-4c3c-a5ee-e527fcee1c41"
      },
      "execution_count": null,
      "outputs": [
        {
          "output_type": "stream",
          "name": "stdout",
          "text": [
            "✅ Shapefile de centróides salvo com sucesso em: /content/centroides.shp (EPSG:31982)\n"
          ]
        }
      ]
    }
  ],
  "metadata": {
    "colab": {
      "provenance": [],
      "authorship_tag": "ABX9TyMiRPwMIdlTEqv18xWSxPD4",
      "include_colab_link": true
    },
    "kernelspec": {
      "display_name": "Python 3",
      "name": "python3"
    },
    "language_info": {
      "name": "python"
    }
  },
  "nbformat": 4,
  "nbformat_minor": 0
}